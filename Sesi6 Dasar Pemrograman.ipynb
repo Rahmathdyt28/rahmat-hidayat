{
 "cells": [
  {
   "cell_type": "code",
   "execution_count": 2,
   "id": "9562276e",
   "metadata": {},
   "outputs": [
    {
     "name": "stdout",
     "output_type": "stream",
     "text": [
      "Masukan umur = 10\n",
      "Masukan tinggi badan = 165\n",
      "total bayar kamu Rp. 60000\n"
     ]
    }
   ],
   "source": [
    "umur = int(input('Masukan umur = '))\n",
    "\n",
    "if umur <= 2 :\n",
    "    print ('dilarang masuk')\n",
    "\n",
    "elif umur <= 4 :\n",
    "    tinggi_badan = int(input('Masukan tinggi badan = '))\n",
    "    harga = 30000\n",
    "    if tinggi_badan >= 70:\n",
    "        print(\"total bayar kamu Rp.\",harga + 10000)\n",
    "    else:\n",
    "        print(\"total bayar kamu\",harga)\n",
    "        \n",
    "elif umur <= 7 :\n",
    "    tinggi_badan = int(input('Masukan tinggi badan = '))\n",
    "    harga = 40000\n",
    "    if tinggi_badan >= 120:\n",
    "        print(\"total bayar kamu Rp.\",harga + 15000)\n",
    "    else:\n",
    "        print(\"total bayar kamu\",harga)      \n",
    "\n",
    "elif umur <= 10 :\n",
    "    tinggi_badan = int(input('Masukan tinggi badan = '))\n",
    "    harga = 40000\n",
    "    if tinggi_badan >= 150:\n",
    "        print(\"total bayar kamu Rp.\",harga + 20000)\n",
    "    else:\n",
    "        print(\"total bayar kamu\",harga)                \n",
    "        \n",
    "else:\n",
    "    harga = 80000\n",
    "    print(\"total bayar kamu\",harga)"
   ]
  },
  {
   "cell_type": "code",
   "execution_count": 4,
   "id": "1d94acff",
   "metadata": {},
   "outputs": [
    {
     "name": "stdout",
     "output_type": "stream",
     "text": [
      "olahraga apa yang anda lakukan:\n",
      "A.LARI\n",
      "B.PUSH UP\n",
      "C.PLANK\n",
      "*Dalam format A+B/B+C/C+A ya\n",
      ":A+B\n",
      "berapa menti anda melakukan lari: 5\n",
      "berapa menit anda melakukan push up: 30\n",
      "jumlah kalori yang terbakar adalah:  270\n"
     ]
    }
   ],
   "source": [
    "olahraga = input('''olahraga apa yang anda lakukan:\n",
    "A.LARI\n",
    "B.PUSH UP\n",
    "C.PLANK\n",
    "*Dalam format A+B/B+C/C+A ya\n",
    ":''')\n",
    "\n",
    "if olahraga == 'A+B':\n",
    "    Menit = int(input('berapa menti anda melakukan lari: '))\n",
    "    kalori = Menit * 12\n",
    "    menit2=int(input('berapa menit anda melakukan push up: '))\n",
    "    kalori2= menit2 * 7\n",
    "    totalkalori=kalori+kalori2\n",
    "    print ('jumlah kalori yang terbakar adalah: ',totalkalori)\n",
    "\n",
    "elif olahraga == 'B+C':\n",
    "    menit = int(input('berpa menit anda melakukan push up: '))\n",
    "    kalori = menit * 7\n",
    "    menit2= int(input('berapa menit anda melakukan plank: '))\n",
    "    kalori2 = menit2 * 5\n",
    "    totalkalori= kalori+kalori2\n",
    "    print ('jumlah kalori yang terbakar adalah: ',totalkalori)\n",
    "\n",
    "elif olahraga=='C+A':\n",
    "    menit = int(input('berpa menit anda melakukan plank: '))\n",
    "    kalori = menit * 5\n",
    "    menit2= int(input('berapa menit anda melakukan lari: '))\n",
    "    kalori2 = menit2 * 12\n",
    "    totalkalori= kalori+kalori2\n",
    "    print ('jumlah kalori yang terbakar adalah: ',totalkalori)\n",
    "\n",
    "elif olahraga == 'A+B+C':\n",
    "    menit = int(input('berapa menit anda lari: '))\n",
    "    kalori = menit * 12\n",
    "    menit2 = int(input('berapa menit anda push up: '))\n",
    "    kalori2 = menit2 * 7\n",
    "    menit3 = int(input('berapa menit anda plank: '))\n",
    "    kalori3 = menit3 * 5\n",
    "    totalkalori= kalori+kalori2+kalori3\n",
    "    print('jumlah kalori yang terbakar adalah : ', totalkalori)\n",
    "    \n",
    "else :\n",
    "    print('''tolong masukan dalam format yang benar\n",
    "    *pastikan dalam huruf kapital''')"
   ]
  },
  {
   "cell_type": "code",
   "execution_count": null,
   "id": "9228b6a5",
   "metadata": {},
   "outputs": [],
   "source": []
  }
 ],
 "metadata": {
  "kernelspec": {
   "display_name": "Python 3 (ipykernel)",
   "language": "python",
   "name": "python3"
  },
  "language_info": {
   "codemirror_mode": {
    "name": "ipython",
    "version": 3
   },
   "file_extension": ".py",
   "mimetype": "text/x-python",
   "name": "python",
   "nbconvert_exporter": "python",
   "pygments_lexer": "ipython3",
   "version": "3.9.13"
  }
 },
 "nbformat": 4,
 "nbformat_minor": 5
}
